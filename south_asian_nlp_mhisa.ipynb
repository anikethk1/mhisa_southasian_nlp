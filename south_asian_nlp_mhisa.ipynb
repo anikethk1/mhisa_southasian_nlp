{
  "cells": [
    {
      "cell_type": "code",
      "execution_count": null,
      "metadata": {},
      "outputs": [
        {
          "name": "stderr",
          "output_type": "stream",
          "text": [
            "C:\\Users\\anike\\AppData\\Local\\Temp\\ipykernel_24952\\1926828170.py:7: DtypeWarning: Columns (0) have mixed types. Specify dtype option on import or set low_memory=False.\n",
            "  names = pd.read_csv(\"americans_by_descent.csv\", encoding='latin-1')\n"
          ]
        }
      ],
      "source": [
        "import pandas as pd\n",
        "import numpy as np\n",
        "from rapidfuzz import fuzz\n",
        "from ethnicolr import pred_wiki_name\n",
        "from ethnicolr import census_ln\n",
        "\n",
        "names = pd.read_csv(\"americans_by_descent.csv\", encoding='latin-1')\n",
        "\n",
        "first_names = set()\n",
        "last_names = set()\n",
        "\n",
        "with open('first.txt', 'r', encoding='utf-8') as textfile:\n",
        "    for line in textfile:\n",
        "        line = line.strip()\n",
        "        first_names.add(line.upper())\n",
        "\n",
        "with open('last.txt', 'r', encoding='utf-8') as textfile:\n",
        "    for line in textfile:\n",
        "        line = line.strip()\n",
        "        last_names.add(line.upper())"
      ]
    },
    {
      "cell_type": "code",
      "execution_count": 4,
      "metadata": {},
      "outputs": [],
      "source": [
        "def check_name_fuzzy(name, name_set, threshold):\n",
        "    name = str(name).upper()\n",
        "    words = name.split()\n",
        "\n",
        "    for word in words:\n",
        "        if word in name_set:\n",
        "            return True\n",
        "\n",
        "        if len(word) < 4:\n",
        "            current_threshold = threshold + 10\n",
        "        else:\n",
        "            current_threshold = threshold\n",
        "\n",
        "        for candidate in name_set:\n",
        "            partial = fuzz.partial_ratio(word, candidate)\n",
        "            token = fuzz.token_sort_ratio(word, candidate)\n",
        "            ratio = fuzz.ratio(word, candidate)\n",
        "\n",
        "            if abs(len(word) - len(candidate)) <= 2:\n",
        "                weighted_score = (partial * 0.5) + (token * 0.3) + (ratio * 0.2)\n",
        "                if weighted_score >= current_threshold:\n",
        "                    return True\n",
        "    return False"
      ]
    },
    {
      "cell_type": "code",
      "execution_count": 5,
      "metadata": {},
      "outputs": [],
      "source": [
        "def process_name(name, x, y):\n",
        "    name_split = name.split()\n",
        "    if len(name_split) < 2:\n",
        "        return {'First Name': name, 'Last Name': '', 'Predicted Value': False}\n",
        "        \n",
        "    first_name = name_split[0]\n",
        "    last_name = name_split[-1]\n",
        "\n",
        "    pattern_score = 0\n",
        "\n",
        "    sa_prefixes = ['raj', 'dev', 'deep', 'hari', 'sun', 'sur', 'pra', 'aman', 'anu']\n",
        "\n",
        "    sa_letter_patterns = ['sh', 'th', 'dh', 'bh', 'gh', 'kh', 'ch']\n",
        "\n",
        "    for prefix in sa_prefixes:\n",
        "        if first_name.lower().startswith(prefix):\n",
        "            pattern_score += 0.2\n",
        "            \n",
        "    for pattern in sa_letter_patterns:\n",
        "        if pattern in first_name.lower() or pattern in last_name.lower():\n",
        "            pattern_score += 0.1\n",
        "\n",
        "    if not first_name or not last_name or pd.isna(first_name) or pd.isna(last_name):\n",
        "        return {'First Name': first_name, 'Last Name': last_name, 'Predicted Value': False}\n",
        "\n",
        "    fuzzy_match_first = check_name_fuzzy(first_name, first_names, x - 5)\n",
        "    fuzzy_match_last = check_name_fuzzy(last_name, last_names, x)\n",
        "\n",
        "    fuzzy_match = fuzzy_match_first or fuzzy_match_last\n",
        "\n",
        "    if fuzzy_match or pattern_score > 0.2:\n",
        "        census_preds = census_ln(pd.DataFrame({'Last Name': [last_name]}), lname_col=\"Last Name\")\n",
        "        census_preds['pctapi'] = pd.to_numeric(census_preds['pctapi'], errors='coerce')\n",
        "\n",
        "        if census_preds['pctapi'].values[0] >= y or fuzzy_match_first or pattern_score > 0.4:\n",
        "            wiki_preds = pred_wiki_name(pd.DataFrame({'First Name': [first_name], 'Last Name': [last_name]}),\n",
        "                                        fname_col=\"First Name\", lname_col=\"Last Name\")\n",
        "\n",
        "            wiki_preds['Asian,IndianSubContinent'] = pd.to_numeric(wiki_preds.get('Asian,IndianSubContinent', pd.Series([0])), errors='coerce')\n",
        "            asian_indian_value = wiki_preds['Asian,IndianSubContinent'].values[0]\n",
        "\n",
        "            adjusted_threshold = y * (0.9 if pattern_score > 0 else 1.0)\n",
        "            is_predicted_sa = asian_indian_value >= adjusted_threshold if pd.notna(asian_indian_value) else False\n",
        "        else:\n",
        "            is_predicted_sa = False\n",
        "    else:\n",
        "        is_predicted_sa = False\n",
        "\n",
        "    return {'First Name': first_name, 'Last Name': last_name, 'Predicted Value': is_predicted_sa}"
      ]
    },
    {
      "cell_type": "code",
      "execution_count": null,
      "metadata": {
        "colab": {
          "base_uri": "https://localhost:8080/",
          "height": 423
        },
        "id": "a8EYFOpXRENA",
        "outputId": "9cc69b42-3376-4997-8ca4-9ea9c3c4bc67"
      },
      "outputs": [
        {
          "data": {
            "application/vnd.microsoft.datawrangler.viewer.v0+json": {
              "columns": [
                {
                  "name": "index",
                  "rawType": "int64",
                  "type": "integer"
                },
                {
                  "name": "Real",
                  "rawType": "bool",
                  "type": "boolean"
                }
              ],
              "conversionMethod": "pd.DataFrame",
              "ref": "343e51eb-4877-408c-8428-aa926bfeb4b5",
              "rows": [
                [
                  "0",
                  "False"
                ],
                [
                  "1",
                  "False"
                ],
                [
                  "2",
                  "False"
                ],
                [
                  "3",
                  "False"
                ],
                [
                  "4",
                  "False"
                ],
                [
                  "5",
                  "False"
                ],
                [
                  "6",
                  "False"
                ],
                [
                  "7",
                  "False"
                ],
                [
                  "8",
                  "False"
                ],
                [
                  "9",
                  "False"
                ],
                [
                  "10",
                  "False"
                ],
                [
                  "11",
                  "False"
                ],
                [
                  "12",
                  "False"
                ],
                [
                  "13",
                  "False"
                ],
                [
                  "14",
                  "False"
                ],
                [
                  "15",
                  "False"
                ],
                [
                  "16",
                  "False"
                ],
                [
                  "17",
                  "False"
                ],
                [
                  "18",
                  "False"
                ],
                [
                  "19",
                  "False"
                ],
                [
                  "20",
                  "False"
                ],
                [
                  "21",
                  "False"
                ],
                [
                  "22",
                  "False"
                ],
                [
                  "23",
                  "False"
                ],
                [
                  "24",
                  "False"
                ],
                [
                  "25",
                  "False"
                ],
                [
                  "26",
                  "False"
                ],
                [
                  "27",
                  "False"
                ],
                [
                  "28",
                  "False"
                ],
                [
                  "29",
                  "False"
                ],
                [
                  "30",
                  "False"
                ],
                [
                  "31",
                  "False"
                ],
                [
                  "32",
                  "False"
                ],
                [
                  "33",
                  "False"
                ],
                [
                  "34",
                  "False"
                ],
                [
                  "35",
                  "False"
                ],
                [
                  "36",
                  "False"
                ],
                [
                  "37",
                  "False"
                ],
                [
                  "38",
                  "False"
                ],
                [
                  "39",
                  "False"
                ],
                [
                  "40",
                  "False"
                ],
                [
                  "41",
                  "False"
                ],
                [
                  "42",
                  "False"
                ],
                [
                  "43",
                  "False"
                ],
                [
                  "44",
                  "False"
                ],
                [
                  "45",
                  "False"
                ],
                [
                  "46",
                  "False"
                ],
                [
                  "47",
                  "False"
                ],
                [
                  "48",
                  "False"
                ],
                [
                  "49",
                  "False"
                ]
              ],
              "shape": {
                "columns": 1,
                "rows": 999
              }
            },
            "text/html": [
              "<div>\n",
              "<style scoped>\n",
              "    .dataframe tbody tr th:only-of-type {\n",
              "        vertical-align: middle;\n",
              "    }\n",
              "\n",
              "    .dataframe tbody tr th {\n",
              "        vertical-align: top;\n",
              "    }\n",
              "\n",
              "    .dataframe thead th {\n",
              "        text-align: right;\n",
              "    }\n",
              "</style>\n",
              "<table border=\"1\" class=\"dataframe\">\n",
              "  <thead>\n",
              "    <tr style=\"text-align: right;\">\n",
              "      <th></th>\n",
              "      <th>Real</th>\n",
              "    </tr>\n",
              "  </thead>\n",
              "  <tbody>\n",
              "    <tr>\n",
              "      <th>0</th>\n",
              "      <td>False</td>\n",
              "    </tr>\n",
              "    <tr>\n",
              "      <th>1</th>\n",
              "      <td>False</td>\n",
              "    </tr>\n",
              "    <tr>\n",
              "      <th>2</th>\n",
              "      <td>False</td>\n",
              "    </tr>\n",
              "    <tr>\n",
              "      <th>3</th>\n",
              "      <td>False</td>\n",
              "    </tr>\n",
              "    <tr>\n",
              "      <th>4</th>\n",
              "      <td>False</td>\n",
              "    </tr>\n",
              "    <tr>\n",
              "      <th>...</th>\n",
              "      <td>...</td>\n",
              "    </tr>\n",
              "    <tr>\n",
              "      <th>994</th>\n",
              "      <td>True</td>\n",
              "    </tr>\n",
              "    <tr>\n",
              "      <th>995</th>\n",
              "      <td>True</td>\n",
              "    </tr>\n",
              "    <tr>\n",
              "      <th>996</th>\n",
              "      <td>True</td>\n",
              "    </tr>\n",
              "    <tr>\n",
              "      <th>997</th>\n",
              "      <td>True</td>\n",
              "    </tr>\n",
              "    <tr>\n",
              "      <th>998</th>\n",
              "      <td>True</td>\n",
              "    </tr>\n",
              "  </tbody>\n",
              "</table>\n",
              "<p>999 rows × 1 columns</p>\n",
              "</div>"
            ],
            "text/plain": [
              "      Real\n",
              "0    False\n",
              "1    False\n",
              "2    False\n",
              "3    False\n",
              "4    False\n",
              "..     ...\n",
              "994   True\n",
              "995   True\n",
              "996   True\n",
              "997   True\n",
              "998   True\n",
              "\n",
              "[999 rows x 1 columns]"
            ]
          },
          "execution_count": 5,
          "metadata": {},
          "output_type": "execute_result"
        }
      ],
      "source": [
        "real_vals = []\n",
        "for i in range(0,499):\n",
        "  real_vals.append(False)\n",
        "for i in range(500,1000):\n",
        "  real_vals.append(True)\n",
        "  \n",
        "real_vals_pd = pd.DataFrame(data=real_vals)\n",
        "real_vals_pd.rename(columns={0:\"Real\"})"
      ]
    },
    {
      "cell_type": "code",
      "execution_count": null,
      "metadata": {
        "colab": {
          "base_uri": "https://localhost:8080/"
        },
        "id": "3eGPOkTzR3SM",
        "outputId": "a9c5164a-7779-4cbc-81a7-b780792ae9bc"
      },
      "outputs": [
        {
          "name": "stdout",
          "output_type": "stream",
          "text": [
            "WARNING:tensorflow:From C:\\Users\\anike\\AppData\\Local\\Packages\\PythonSoftwareFoundation.Python.3.11_qbz5n2kfra8p0\\LocalCache\\local-packages\\Python311\\site-packages\\keras\\src\\backend.py:1398: The name tf.executing_eagerly_outside_functions is deprecated. Please use tf.compat.v1.executing_eagerly_outside_functions instead.\n",
            "\n",
            "New parameters: x=7.5, y=0.12\n",
            "New accuracy: 90.00%\n"
          ]
        }
      ],
      "source": [
        "from re import I\n",
        "import random\n",
        "\n",
        "test_names = []\n",
        "\n",
        "for i in range(0,500):\n",
        "  val = random.randint(0,25561)\n",
        "  test_names.append(names.at[val, 'name'])\n",
        "\n",
        "for i in range(0, 500):\n",
        "  val = random.randint(27501,len(names)-1)\n",
        "  test_names.append(names.at[val, 'name'])\n",
        "\n",
        "results = []\n",
        "total_rows = len(test_names)\n",
        "\n",
        "x = 7.5 \n",
        "y = 0.12 \n",
        "\n",
        "results = []\n",
        "for i in range(len(test_names)):\n",
        "    row = test_names[i]\n",
        "    row_results = process_name(row, x, y)\n",
        "    results.append(row_results)\n",
        "    \n",
        "results_df = pd.DataFrame(results)\n",
        "frames = [results_df, real_vals_pd]\n",
        "final = pd.concat(frames, axis=1)\n",
        "final = final.rename(columns={0: \"Real Value\"})\n",
        "\n",
        "correct = sum(1 for i in range(len(final)) \n",
        "             if final.loc[i,\"Predicted Value\"] == final.loc[i,\"Real Value\"])\n",
        "accuracy = correct / len(final)\n",
        "\n",
        "print(f\"New parameters: x={x}, y={y}\")\n",
        "print(f\"New accuracy: {accuracy * 100:.2f}%\")\n",
        "# Best Percentage: 91.7%, x = 7.5, y = 0.12"
      ]
    },
    {
      "cell_type": "code",
      "execution_count": null,
      "metadata": {},
      "outputs": [
        {
          "name": "stdout",
          "output_type": "stream",
          "text": [
            "WARNING:tensorflow:From C:\\Users\\anike\\AppData\\Local\\Packages\\PythonSoftwareFoundation.Python.3.11_qbz5n2kfra8p0\\LocalCache\\local-packages\\Python311\\site-packages\\keras\\src\\backend.py:1398: The name tf.executing_eagerly_outside_functions is deprecated. Please use tf.compat.v1.executing_eagerly_outside_functions instead.\n",
            "\n"
          ]
        }
      ],
      "source": [
        "df = pd.read_csv(\"master sheet w_providers - Sheet1.csv\", header=None)\n",
        "df.columns = ['Full Name']\n",
        "df = df.dropna()\n",
        "df = df[df['Full Name'].str.strip() != '']\n",
        "\n",
        "x = 7.5\n",
        "y = 0.12\n",
        "results = df['Full Name'].apply(lambda name: process_name(name, x, y))\n",
        "results_df = pd.DataFrame(results.tolist())\n",
        "final_df = pd.concat([df, results_df], axis=1)\n",
        "\n",
        "sa_names_df = final_df[final_df['Predicted Value'] == True]\n",
        "\n",
        "sa_names_df.to_csv(\"south_asian_names.csv\", index=False)"
      ]
    }
  ],
  "metadata": {
    "colab": {
      "provenance": []
    },
    "kernelspec": {
      "display_name": "Python 3",
      "name": "python3"
    },
    "language_info": {
      "codemirror_mode": {
        "name": "ipython",
        "version": 3
      },
      "file_extension": ".py",
      "mimetype": "text/x-python",
      "name": "python",
      "nbconvert_exporter": "python",
      "pygments_lexer": "ipython3",
      "version": "3.11.9"
    }
  },
  "nbformat": 4,
  "nbformat_minor": 0
}
